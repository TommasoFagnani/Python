import pprint
pp=pprint.PrettyPrinter(indent=4)
diz={}
def leggiNprenotazioni():
  nPrenotazioni=0
  while (nPrenotazioni)==0:
    nPrenotazioni=int(input("Inserisci il numero di prenotazioni: "))
    if nPrenotazioni==0:
      print("!-devi inserire il numero di -!")
  return nPrenotazioni
def leggiChiave():
  codice=int(input("Inserisci il codice ="))
  return codice
def leggiDati():
  fila=int(input("Inserisci numero di fila: "))
  numero=int(input("Inserisci numero di ombrellone: "))
  pos=(fila,numero)

  bassa=int(input("Inserisci prezzo bassa stagione: "))
  alta=int(input("Inserisci prezzo alta stagione: "))
  stagione=(bassa,alta)

  giorno=int(input("inserisci giorno: "))
  mese=int(input("inserisci mese: "))
  anno=int(input("inserisci anno: "))
  data=(giorno,mese,anno)
  

  g=int(input("Inserisci numero di giorni: "))


  if(mese==7 or mese==8):
    prezzo=g*alta
    print(prezzo)
  elif(mese==6 or mese==9):
    prezzo=g*bassa
    print(prezzo)
    
  opz=input("Vuoi scegliere la configurazione base? s-si  n-no ")
  if(opz=='s'):
      opzione=(0,0)
  else:
      nSdraio=int(input("Inserisci numero di sdraio aggiuntivi: "))
      nLettino=int(input("Inserisci numero di lettini aggiuntivi: "))
      opzione=(nSdraio,nLettino)
      add=((prezzo/3)*nSdraio)+((prezzo/2)*nLettino)
      prezzo+=add

  
  return[pos,stagione,data,g,opzione,prezzo]
#1
def popola():
  nPrenotazioni=leggiNprenotazioni()
  for i in range(nPrenotazioni):
    chiave=leggiChiave()
    if chiave in diz:
      print("contatto già presente!")
      while(chiave in diz):
        chiave=leggiChiave()
        dati=leggiDati()
        diz[chiave]=dati
    else:
      dati=leggiDati()
      diz[chiave]=dati
#visualizza
def tutti():
  pp.pprint(diz)
#2) Mostra le prenotazioni di un ombrellone
def cerca():
  chiave=leggiChiave()
  if chiave in diz:
     print(diz[chiave])
  else:
      print("!-elemento inesistente -!")
#4) Riduzione prezzo percentuale
def modifica():
 x=int(input("Inserisci mese da modificare: "))
 for chiave in diz.keys():
  if(diz[chiave][2][1]==x):
      perc=int(input("Inserisci la percentuale di quanti ridurre il prezzo: "))
      diz[chiave][5]-=((diz[chiave][5]*perc)/100)
 # 5) Calcolo l'incasso totale di un mese
def totMensile():
 tot=0
 x=int(input("Inserisci mese : "))
 for chiave in diz.keys():
   if(diz[chiave][2][1]==x):
     tot+=diz[chiave][5]
 print(tot)     
#Visualizza le prenotazioni di n mesi
def prenotMesi():
  x=int(input("Inserisci mese : "))
  while(x!=0):
    x=int(input("Inserisci mese : "))
    for chiave in diz.keys():
      if(diz[chiave][2][1]==x):
        print(diz[chiave])
#menu'
scelta=1
while (scelta!=0):
  print('0) Esci')
  print('1) Popola')
  print('2) Visualizza pernotazioni di n mesi')
  print('3) Totale di un mese')
  print('4) Cerca')
  print('5) Mostra tutti')
  print('6) Modifica')
  scelta=int(input('Scegli :'))
  if(scelta==1):
    popola()
  elif(scelta==0):
    break
  elif(scelta==5):
    tutti()
  elif(scelta==4):
    cerca()
  elif(scelta==2):
    prenotMesi()
  elif(scelta==3):
    totMensile()
  elif(scelta==6):
    modifica()
    
        




